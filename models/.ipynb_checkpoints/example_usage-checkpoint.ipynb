{
  "cells": [
    {
      "cell_type": "markdown",
      "metadata": {},
      "source": [
        "# Weather Data Analysis Example\n",
        "\n",
        "This notebook demonstrates how to use the `WeatherDataReader` utility to load and analyze weather data from S3.\n"
      ]
    },
    {
      "cell_type": "code",
      "execution_count": null,
      "metadata": {},
      "outputs": [],
      "source": [
        "import os\n",
        "import pandas as pd\n",
        "import matplotlib.pyplot as plt\n",
        "import seaborn as sns\n",
        "from weather_data_reader import WeatherDataReader\n",
        "\n",
        "# Set style for plots\n",
        "sns.set_style(\"whitegrid\")\n",
        "plt.rcParams['figure.figsize'] = (12, 6)\n"
      ]
    },
    {
      "cell_type": "markdown",
      "metadata": {},
      "source": [
        "## Initialize the Reader\n",
        "\n",
        "The AWS credentials are automatically loaded from your `.env` file.\n"
      ]
    },
    {
      "cell_type": "code",
      "execution_count": null,
      "metadata": {},
      "outputs": [],
      "source": [
        "# Initialize the reader with your S3 bucket details\n",
        "reader = WeatherDataReader(\n",
        "    bucket=os.getenv('AWS_BUCKET_NAME', 'your-bucket-name'),\n",
        "    bronze_prefix=\"samples\",\n",
        "    silver_prefix=\"silver\",\n",
        "    region=\"us-west-2\"\n",
        ")\n",
        "\n",
        "print(\"✓ WeatherDataReader initialized\")\n"
      ]
    },
    {
      "cell_type": "markdown",
      "metadata": {},
      "source": [
        "## List Available Data\n"
      ]
    },
    {
      "cell_type": "code",
      "execution_count": null,
      "metadata": {},
      "outputs": [],
      "source": [
        "# Check what dates have data available\n",
        "available_dates = reader.list_available_dates(layer=\"silver\")\n",
        "print(f\"Data available for {len(available_dates)} dates:\")\n",
        "print(f\"First date: {available_dates[0] if available_dates else 'N/A'}\")\n",
        "print(f\"Last date: {available_dates[-1] if available_dates else 'N/A'}\")\n"
      ]
    },
    {
      "cell_type": "markdown",
      "metadata": {},
      "source": [
        "## Load Recent Data\n"
      ]
    },
    {
      "cell_type": "code",
      "execution_count": null,
      "metadata": {},
      "outputs": [],
      "source": [
        "# Get last 24 hours of enriched data\n",
        "df_24h = reader.get_readings(hours=24, layer=\"silver\")\n",
        "\n",
        "print(f\"Loaded {len(df_24h)} readings from the last 24 hours\")\n",
        "print(f\"\\nColumns: {list(df_24h.columns)}\")\n",
        "print(f\"\\nFirst reading: {df_24h['timestamp'].min()}\")\n",
        "print(f\"Last reading: {df_24h['timestamp'].max()}\")\n",
        "\n",
        "# Display first few rows\n",
        "df_24h.head()\n"
      ]
    },
    {
      "cell_type": "markdown",
      "metadata": {},
      "source": [
        "## Load Historical Data by Date Range\n"
      ]
    },
    {
      "cell_type": "code",
      "execution_count": null,
      "metadata": {},
      "outputs": [],
      "source": [
        "# Get data for a specific date range\n",
        "df_historical = reader.get_readings_by_date_range(\n",
        "    start_date=\"2025-10-01\",\n",
        "    end_date=\"2025-10-07\",\n",
        "    layer=\"silver\"\n",
        ")\n",
        "\n",
        "print(f\"Loaded {len(df_historical)} readings from date range\")\n",
        "df_historical.head()\n"
      ]
    },
    {
      "cell_type": "markdown",
      "metadata": {},
      "source": [
        "## Get Latest Reading\n"
      ]
    },
    {
      "cell_type": "code",
      "execution_count": null,
      "metadata": {},
      "outputs": [],
      "source": [
        "# Get the most recent reading\n",
        "latest = reader.get_latest_reading(layer=\"silver\")\n",
        "\n",
        "if latest:\n",
        "    print(\"Latest weather reading:\")\n",
        "    for key, value in latest.items():\n",
        "        print(f\"  {key}: {value}\")\n",
        "else:\n",
        "    print(\"No recent readings found\")\n"
      ]
    },
    {
      "cell_type": "markdown",
      "metadata": {},
      "source": [
        "## Visualize Temperature Trends\n"
      ]
    },
    {
      "cell_type": "code",
      "execution_count": null,
      "metadata": {},
      "outputs": [],
      "source": [
        "# Plot temperature over time\n",
        "if 'temperature_celsius' in df_24h.columns:\n",
        "    plt.figure(figsize=(14, 6))\n",
        "    plt.plot(df_24h['timestamp'], df_24h['temperature_celsius'], linewidth=2)\n",
        "    plt.title('Temperature Over Last 24 Hours', fontsize=16)\n",
        "    plt.xlabel('Time', fontsize=12)\n",
        "    plt.ylabel('Temperature (°C)', fontsize=12)\n",
        "    plt.xticks(rotation=45)\n",
        "    plt.tight_layout()\n",
        "    plt.grid(True, alpha=0.3)\n",
        "    plt.show()\n",
        "else:\n",
        "    print(\"Temperature column not found in data\")\n"
      ]
    },
    {
      "cell_type": "markdown",
      "metadata": {},
      "source": [
        "## Get Daily Aggregates\n"
      ]
    },
    {
      "cell_type": "code",
      "execution_count": null,
      "metadata": {},
      "outputs": [],
      "source": [
        "# Get daily statistics\n",
        "daily_stats = reader.get_daily_aggregates(\n",
        "    start_date=\"2025-10-01\",\n",
        "    end_date=\"2025-10-07\",\n",
        "    layer=\"silver\"\n",
        ")\n",
        "\n",
        "print(f\"Daily statistics for {len(daily_stats)} days\")\n",
        "daily_stats.head()\n"
      ]
    },
    {
      "cell_type": "markdown",
      "metadata": {},
      "source": [
        "## Prepare Data for LSTM Model\n",
        "\n",
        "Example of preparing time series data for LSTM training.\n"
      ]
    },
    {
      "cell_type": "code",
      "execution_count": null,
      "metadata": {},
      "outputs": [],
      "source": [
        "import numpy as np\n",
        "import torch\n",
        "from sklearn.preprocessing import StandardScaler\n",
        "\n",
        "# Get a week of data for training\n",
        "df_train = reader.get_readings_by_date_range(\n",
        "    start_date=\"2025-10-01\",\n",
        "    end_date=\"2025-10-07\",\n",
        "    layer=\"silver\"\n",
        ")\n",
        "\n",
        "if not df_train.empty:\n",
        "    # Select features for LSTM (adjust based on your data schema)\n",
        "    feature_cols = ['temperature_celsius', 'humidity_percent', 'pressure_hpa']\n",
        "    available_features = [col for col in feature_cols if col in df_train.columns]\n",
        "\n",
        "    if available_features:\n",
        "        # Extract features\n",
        "        data = df_train[available_features].values\n",
        "\n",
        "        # Normalize data\n",
        "        scaler = StandardScaler()\n",
        "        data_normalized = scaler.fit_transform(data)\n",
        "\n",
        "        # Convert to PyTorch tensor\n",
        "        data_tensor = torch.FloatTensor(data_normalized)\n",
        "\n",
        "        print(f\"Prepared {len(data_tensor)} samples with {len(available_features)} features\")\n",
        "        print(f\"Features: {available_features}\")\n",
        "        print(f\"Tensor shape: {data_tensor.shape}\")\n",
        "    else:\n",
        "        print(\"No matching features found in data\")\n",
        "else:\n",
        "    print(\"No training data available\")\n"
      ]
    },
    {
      "cell_type": "markdown",
      "metadata": {},
      "source": [
        "## Next Steps\n",
        "\n",
        "Now you can:\n",
        "1. Build your LSTM model using PyTorch\n",
        "2. Train on historical weather data\n",
        "3. Export the model to ONNX format for deployment\n",
        "\n",
        "Example LSTM model structure:\n",
        "```python\n",
        "import torch.nn as nn\n",
        "\n",
        "class WeatherLSTM(nn.Module):\n",
        "    def __init__(self, input_size, hidden_size, num_layers, output_size):\n",
        "        super(WeatherLSTM, self).__init__()\n",
        "        self.lstm = nn.LSTM(input_size, hidden_size, num_layers, batch_first=True)\n",
        "        self.fc = nn.Linear(hidden_size, output_size)\n",
        "\n",
        "    def forward(self, x):\n",
        "        out, _ = self.lstm(x)\n",
        "        out = self.fc(out[:, -1, :])\n",
        "        return out\n",
        "```\n"
      ]
    }
  ],
  "metadata": {
    "language_info": {
      "name": "python"
    }
  },
  "nbformat": 4,
  "nbformat_minor": 2
}
